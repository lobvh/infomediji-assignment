{
 "cells": [
  {
   "cell_type": "code",
   "execution_count": 1,
   "id": "11d9f9a8",
   "metadata": {},
   "outputs": [],
   "source": [
    "import pandas as pd"
   ]
  },
  {
   "cell_type": "code",
   "execution_count": 2,
   "id": "c7494135",
   "metadata": {},
   "outputs": [
    {
     "name": "stdout",
     "output_type": "stream",
     "text": [
      "Data-analyst-test_Goran.docx      \u001b[1m\u001b[36mexported-data\u001b[m\u001b[m\r\n",
      "assignment.txt                    null-category-investigation.ipynb\r\n",
      "data-preparation.ipynb            \u001b[1m\u001b[36myoutube-data\u001b[m\u001b[m\r\n"
     ]
    }
   ],
   "source": [
    "!ls"
   ]
  },
  {
   "cell_type": "code",
   "execution_count": 21,
   "id": "f0ebe952",
   "metadata": {},
   "outputs": [
    {
     "data": {
      "text/plain": [
       "(16422, 2254134)"
      ]
     },
     "execution_count": 21,
     "metadata": {},
     "output_type": "execute_result"
    }
   ],
   "source": [
    "df = pd.read_csv('./exported-data/videos_combined.csv', index_col=False)\n",
    "df[df['category'].isnull()].size, df.size"
   ]
  },
  {
   "cell_type": "code",
   "execution_count": 27,
   "id": "c03771d2",
   "metadata": {},
   "outputs": [
    {
     "data": {
      "text/plain": [
       "['CA', 'FR', 'IN', 'KR', 'RU', 'GB', 'JP', 'MX', 'DE']"
      ]
     },
     "execution_count": 27,
     "metadata": {},
     "output_type": "execute_result"
    }
   ],
   "source": [
    "#Let's see if there is a problem with specific countries or more\n",
    "list(df[(df['category'].isnull())]['country'].unique())"
   ]
  },
  {
   "cell_type": "markdown",
   "id": "9b842763",
   "metadata": {},
   "source": [
    "Let's explore for one of the countries, ex. CA - Canada"
   ]
  },
  {
   "cell_type": "code",
   "execution_count": 34,
   "id": "6f7e30fe",
   "metadata": {},
   "outputs": [
    {
     "data": {
      "text/plain": [
       "0.18"
      ]
     },
     "execution_count": 34,
     "metadata": {},
     "output_type": "execute_result"
    }
   ],
   "source": [
    "#Let's calculate and round to two decimal places percentage of NaNs when the country=='CA'\n",
    "round(df[(df['category'].isnull()) & (df['country'] == 'CA')].size / df[df['country'] == 'CA'].size*100, 2)"
   ]
  },
  {
   "cell_type": "code",
   "execution_count": 35,
   "id": "e77cbcba",
   "metadata": {},
   "outputs": [
    {
     "data": {
      "text/html": [
       "<div>\n",
       "<style scoped>\n",
       "    .dataframe tbody tr th:only-of-type {\n",
       "        vertical-align: middle;\n",
       "    }\n",
       "\n",
       "    .dataframe tbody tr th {\n",
       "        vertical-align: top;\n",
       "    }\n",
       "\n",
       "    .dataframe thead th {\n",
       "        text-align: right;\n",
       "    }\n",
       "</style>\n",
       "<table border=\"1\" class=\"dataframe\">\n",
       "  <thead>\n",
       "    <tr style=\"text-align: right;\">\n",
       "      <th></th>\n",
       "      <th>channel_title</th>\n",
       "      <th>views</th>\n",
       "      <th>likes</th>\n",
       "      <th>dislikes</th>\n",
       "      <th>category</th>\n",
       "      <th>country</th>\n",
       "    </tr>\n",
       "  </thead>\n",
       "  <tbody>\n",
       "    <tr>\n",
       "      <th>43</th>\n",
       "      <td>CNN</td>\n",
       "      <td>286231</td>\n",
       "      <td>2530</td>\n",
       "      <td>1127</td>\n",
       "      <td>NaN</td>\n",
       "      <td>CA</td>\n",
       "    </tr>\n",
       "    <tr>\n",
       "      <th>228</th>\n",
       "      <td>FBas</td>\n",
       "      <td>2253298</td>\n",
       "      <td>4632</td>\n",
       "      <td>104</td>\n",
       "      <td>NaN</td>\n",
       "      <td>CA</td>\n",
       "    </tr>\n",
       "    <tr>\n",
       "      <th>359</th>\n",
       "      <td>CNN</td>\n",
       "      <td>311936</td>\n",
       "      <td>2627</td>\n",
       "      <td>1196</td>\n",
       "      <td>NaN</td>\n",
       "      <td>CA</td>\n",
       "    </tr>\n",
       "    <tr>\n",
       "      <th>385</th>\n",
       "      <td>CREA | ACI</td>\n",
       "      <td>1898</td>\n",
       "      <td>0</td>\n",
       "      <td>0</td>\n",
       "      <td>NaN</td>\n",
       "      <td>CA</td>\n",
       "    </tr>\n",
       "    <tr>\n",
       "      <th>489</th>\n",
       "      <td>Transferd AS</td>\n",
       "      <td>2510664</td>\n",
       "      <td>0</td>\n",
       "      <td>0</td>\n",
       "      <td>NaN</td>\n",
       "      <td>CA</td>\n",
       "    </tr>\n",
       "  </tbody>\n",
       "</table>\n",
       "</div>"
      ],
      "text/plain": [
       "    channel_title    views  likes  dislikes category country\n",
       "43            CNN   286231   2530      1127      NaN      CA\n",
       "228          FBas  2253298   4632       104      NaN      CA\n",
       "359           CNN   311936   2627      1196      NaN      CA\n",
       "385    CREA | ACI     1898      0         0      NaN      CA\n",
       "489  Transferd AS  2510664      0         0      NaN      CA"
      ]
     },
     "execution_count": 35,
     "metadata": {},
     "output_type": "execute_result"
    }
   ],
   "source": [
    "df[(df['category'].isnull()) & (df['country'] == 'CA')].head()"
   ]
  },
  {
   "cell_type": "code",
   "execution_count": 42,
   "id": "b411c1ae",
   "metadata": {},
   "outputs": [],
   "source": [
    "#Let's load the original Canada's csv and JSON file\n",
    "ca_original_csv = pd.read_csv('./youtube-data/youtube-csv-data/CAvideos.csv')\n",
    "ca_original_json = pd.read_json('./youtube-data/youtube-json-data/CA_category_id.json')"
   ]
  },
  {
   "cell_type": "code",
   "execution_count": 60,
   "id": "d5d2991e",
   "metadata": {},
   "outputs": [
    {
     "data": {
      "text/plain": [
       "{1, 2, 10, 15, 17, 19, 20, 22, 23, 24, 25, 26, 27, 28, 29, 30, 43}"
      ]
     },
     "execution_count": 60,
     "metadata": {},
     "output_type": "execute_result"
    }
   ],
   "source": [
    "#Lets extract unique categories from csv file... \n",
    "csv_cat_id_set = set(ca_original_csv['category_id'].unique())\n",
    "csv_cat_id_set"
   ]
  },
  {
   "cell_type": "code",
   "execution_count": 61,
   "id": "b27be5f7",
   "metadata": {},
   "outputs": [],
   "source": [
    "#... and extract unique categories from JSON file\n",
    "json_cat_id_list = []\n",
    "for each_item in list(ca_original_json['items'].values):\n",
    "    json_cat_id_list.append(int(each_item['id']))\n",
    "    \n",
    "json_cat_id_set = set(json_cat_id_list)"
   ]
  },
  {
   "cell_type": "code",
   "execution_count": 65,
   "id": "20f0c166",
   "metadata": {},
   "outputs": [
    {
     "name": "stdout",
     "output_type": "stream",
     "text": [
      "Pretty printing has been turned OFF\n"
     ]
    }
   ],
   "source": [
    "%pprint"
   ]
  },
  {
   "cell_type": "code",
   "execution_count": 66,
   "id": "c9d243fc",
   "metadata": {},
   "outputs": [
    {
     "data": {
      "text/plain": [
       "{1, 2, 10, 15, 17, 18, 19, 20, 21, 22, 23, 24, 25, 26, 27, 28, 30, 31, 32, 33, 34, 35, 36, 37, 38, 39, 40, 41, 42, 43, 44}"
      ]
     },
     "execution_count": 66,
     "metadata": {},
     "output_type": "execute_result"
    }
   ],
   "source": [
    "json_cat_id_set"
   ]
  },
  {
   "cell_type": "code",
   "execution_count": 59,
   "id": "7132e1a4",
   "metadata": {},
   "outputs": [
    {
     "data": {
      "text/plain": [
       "{29}"
      ]
     },
     "execution_count": 59,
     "metadata": {},
     "output_type": "execute_result"
    }
   ],
   "source": [
    "#Let's see what CSV unique categories have, that JSON file don't\n",
    "csv_cat_id_list.difference(json_cat_id_list)"
   ]
  },
  {
   "cell_type": "markdown",
   "id": "0a0742ed",
   "metadata": {},
   "source": [
    "This is the exact reason why I was using the LEFT JOIN. "
   ]
  }
 ],
 "metadata": {
  "kernelspec": {
   "display_name": "Python 3 (ipykernel)",
   "language": "python",
   "name": "python3"
  },
  "language_info": {
   "codemirror_mode": {
    "name": "ipython",
    "version": 3
   },
   "file_extension": ".py",
   "mimetype": "text/x-python",
   "name": "python",
   "nbconvert_exporter": "python",
   "pygments_lexer": "ipython3",
   "version": "3.9.7"
  }
 },
 "nbformat": 4,
 "nbformat_minor": 5
}
