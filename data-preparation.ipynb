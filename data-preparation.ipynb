{
 "cells": [
  {
   "cell_type": "code",
   "execution_count": 1,
   "id": "047a4589",
   "metadata": {},
   "outputs": [],
   "source": [
    "import pandas as pd"
   ]
  },
  {
   "cell_type": "code",
   "execution_count": 2,
   "id": "576c4e80",
   "metadata": {},
   "outputs": [
    {
     "data": {
      "text/plain": [
       "'1.5.3'"
      ]
     },
     "execution_count": 2,
     "metadata": {},
     "output_type": "execute_result"
    }
   ],
   "source": [
    "pd.__version__"
   ]
  },
  {
   "cell_type": "code",
   "execution_count": 3,
   "id": "4ddbfc56",
   "metadata": {},
   "outputs": [
    {
     "name": "stdout",
     "output_type": "stream",
     "text": [
      "CAvideos.csv FRvideos.csv INvideos.csv KRvideos.csv RUvideos.csv\r\n",
      "DEvideos.csv GBvideos.csv JPvideos.csv MXvideos.csv USvideos.csv\r\n"
     ]
    }
   ],
   "source": [
    "!ls youtube-data/youtube-csv-data/"
   ]
  },
  {
   "cell_type": "markdown",
   "id": "4009d706",
   "metadata": {},
   "source": [
    "First I'm going to quickly explore the first few rows and get the feeling of kind of data that I'm going to be working with."
   ]
  },
  {
   "cell_type": "code",
   "execution_count": 4,
   "id": "5148f6d3",
   "metadata": {},
   "outputs": [],
   "source": [
    "#Let's take for example Germany data since it is relevant for task_1 of the assingment"
   ]
  },
  {
   "cell_type": "code",
   "execution_count": 5,
   "id": "da9f3b1d",
   "metadata": {},
   "outputs": [],
   "source": [
    "videos_df = pd.read_csv('./youtube-data/youtube-csv-data/DEvideos.csv')"
   ]
  },
  {
   "cell_type": "code",
   "execution_count": 6,
   "id": "741b9f75",
   "metadata": {
    "scrolled": true
   },
   "outputs": [
    {
     "data": {
      "text/html": [
       "<div>\n",
       "<style scoped>\n",
       "    .dataframe tbody tr th:only-of-type {\n",
       "        vertical-align: middle;\n",
       "    }\n",
       "\n",
       "    .dataframe tbody tr th {\n",
       "        vertical-align: top;\n",
       "    }\n",
       "\n",
       "    .dataframe thead th {\n",
       "        text-align: right;\n",
       "    }\n",
       "</style>\n",
       "<table border=\"1\" class=\"dataframe\">\n",
       "  <thead>\n",
       "    <tr style=\"text-align: right;\">\n",
       "      <th></th>\n",
       "      <th>video_id</th>\n",
       "      <th>trending_date</th>\n",
       "      <th>title</th>\n",
       "      <th>channel_title</th>\n",
       "      <th>category_id</th>\n",
       "      <th>publish_time</th>\n",
       "      <th>tags</th>\n",
       "      <th>views</th>\n",
       "      <th>likes</th>\n",
       "      <th>dislikes</th>\n",
       "      <th>comment_count</th>\n",
       "      <th>thumbnail_link</th>\n",
       "      <th>comments_disabled</th>\n",
       "      <th>ratings_disabled</th>\n",
       "      <th>video_error_or_removed</th>\n",
       "      <th>description</th>\n",
       "    </tr>\n",
       "  </thead>\n",
       "  <tbody>\n",
       "    <tr>\n",
       "      <th>0</th>\n",
       "      <td>LgVi6y5QIjM</td>\n",
       "      <td>17.14.11</td>\n",
       "      <td>Sing zu Ende! | Gesangseinlagen vom Feinsten |...</td>\n",
       "      <td>inscope21</td>\n",
       "      <td>24</td>\n",
       "      <td>2017-11-13T17:08:49.000Z</td>\n",
       "      <td>inscope21|\"sing zu ende\"|\"gesangseinlagen\"|\"ge...</td>\n",
       "      <td>252786</td>\n",
       "      <td>35885</td>\n",
       "      <td>230</td>\n",
       "      <td>1539</td>\n",
       "      <td>https://i.ytimg.com/vi/LgVi6y5QIjM/default.jpg</td>\n",
       "      <td>False</td>\n",
       "      <td>False</td>\n",
       "      <td>False</td>\n",
       "      <td>Heute gibt es mal wieder ein neues Format... w...</td>\n",
       "    </tr>\n",
       "    <tr>\n",
       "      <th>1</th>\n",
       "      <td>Bayt7uQith4</td>\n",
       "      <td>17.14.11</td>\n",
       "      <td>Kinder ferngesteuert im Kiosk! Erwachsene abzo...</td>\n",
       "      <td>LUKE! Die Woche und ich</td>\n",
       "      <td>23</td>\n",
       "      <td>2017-11-12T22:30:01.000Z</td>\n",
       "      <td>Kinder|\"ferngesteuert\"|\"Kinder ferngesteuert\"|...</td>\n",
       "      <td>797196</td>\n",
       "      <td>53576</td>\n",
       "      <td>302</td>\n",
       "      <td>1278</td>\n",
       "      <td>https://i.ytimg.com/vi/Bayt7uQith4/default.jpg</td>\n",
       "      <td>False</td>\n",
       "      <td>False</td>\n",
       "      <td>False</td>\n",
       "      <td>Kinder ferngesteuert! Kinder lassen sich sooo ...</td>\n",
       "    </tr>\n",
       "    <tr>\n",
       "      <th>2</th>\n",
       "      <td>1ZAPwfrtAFY</td>\n",
       "      <td>17.14.11</td>\n",
       "      <td>The Trump Presidency: Last Week Tonight with J...</td>\n",
       "      <td>LastWeekTonight</td>\n",
       "      <td>24</td>\n",
       "      <td>2017-11-13T07:30:00.000Z</td>\n",
       "      <td>last week tonight trump presidency|\"last week ...</td>\n",
       "      <td>2418783</td>\n",
       "      <td>97190</td>\n",
       "      <td>6146</td>\n",
       "      <td>12703</td>\n",
       "      <td>https://i.ytimg.com/vi/1ZAPwfrtAFY/default.jpg</td>\n",
       "      <td>False</td>\n",
       "      <td>False</td>\n",
       "      <td>False</td>\n",
       "      <td>One year after the presidential election, John...</td>\n",
       "    </tr>\n",
       "    <tr>\n",
       "      <th>3</th>\n",
       "      <td>AHtypnRk7JE</td>\n",
       "      <td>17.14.11</td>\n",
       "      <td>Das Fermi-Paradoxon</td>\n",
       "      <td>100SekundenPhysik</td>\n",
       "      <td>27</td>\n",
       "      <td>2017-11-12T15:00:01.000Z</td>\n",
       "      <td>Physik|\"Wissenschaft\"|\"Technik\"|\"Science-Ficti...</td>\n",
       "      <td>380247</td>\n",
       "      <td>31821</td>\n",
       "      <td>458</td>\n",
       "      <td>1955</td>\n",
       "      <td>https://i.ytimg.com/vi/AHtypnRk7JE/default.jpg</td>\n",
       "      <td>False</td>\n",
       "      <td>False</td>\n",
       "      <td>False</td>\n",
       "      <td>►Alle Videos: http://bit.ly/1fa7Tw3\\n\\n\\n✚Snap...</td>\n",
       "    </tr>\n",
       "    <tr>\n",
       "      <th>4</th>\n",
       "      <td>ZJ9We4bjcg0</td>\n",
       "      <td>17.14.11</td>\n",
       "      <td>18 SONGS mit Kelly MissesVlog (Sing-off)</td>\n",
       "      <td>rezo</td>\n",
       "      <td>24</td>\n",
       "      <td>2017-11-12T13:10:36.000Z</td>\n",
       "      <td>kelly|\"missesvlog\"|\"kelly song\"|\"bausa\"|\"bausa...</td>\n",
       "      <td>822213</td>\n",
       "      <td>100684</td>\n",
       "      <td>2467</td>\n",
       "      <td>10244</td>\n",
       "      <td>https://i.ytimg.com/vi/ZJ9We4bjcg0/default.jpg</td>\n",
       "      <td>False</td>\n",
       "      <td>False</td>\n",
       "      <td>False</td>\n",
       "      <td>18 Song Mashup über den (veränderten) Beat von...</td>\n",
       "    </tr>\n",
       "  </tbody>\n",
       "</table>\n",
       "</div>"
      ],
      "text/plain": [
       "      video_id trending_date  \\\n",
       "0  LgVi6y5QIjM      17.14.11   \n",
       "1  Bayt7uQith4      17.14.11   \n",
       "2  1ZAPwfrtAFY      17.14.11   \n",
       "3  AHtypnRk7JE      17.14.11   \n",
       "4  ZJ9We4bjcg0      17.14.11   \n",
       "\n",
       "                                               title            channel_title  \\\n",
       "0  Sing zu Ende! | Gesangseinlagen vom Feinsten |...                inscope21   \n",
       "1  Kinder ferngesteuert im Kiosk! Erwachsene abzo...  LUKE! Die Woche und ich   \n",
       "2  The Trump Presidency: Last Week Tonight with J...          LastWeekTonight   \n",
       "3                                Das Fermi-Paradoxon        100SekundenPhysik   \n",
       "4           18 SONGS mit Kelly MissesVlog (Sing-off)                     rezo   \n",
       "\n",
       "   category_id              publish_time  \\\n",
       "0           24  2017-11-13T17:08:49.000Z   \n",
       "1           23  2017-11-12T22:30:01.000Z   \n",
       "2           24  2017-11-13T07:30:00.000Z   \n",
       "3           27  2017-11-12T15:00:01.000Z   \n",
       "4           24  2017-11-12T13:10:36.000Z   \n",
       "\n",
       "                                                tags    views   likes  \\\n",
       "0  inscope21|\"sing zu ende\"|\"gesangseinlagen\"|\"ge...   252786   35885   \n",
       "1  Kinder|\"ferngesteuert\"|\"Kinder ferngesteuert\"|...   797196   53576   \n",
       "2  last week tonight trump presidency|\"last week ...  2418783   97190   \n",
       "3  Physik|\"Wissenschaft\"|\"Technik\"|\"Science-Ficti...   380247   31821   \n",
       "4  kelly|\"missesvlog\"|\"kelly song\"|\"bausa\"|\"bausa...   822213  100684   \n",
       "\n",
       "   dislikes  comment_count                                  thumbnail_link  \\\n",
       "0       230           1539  https://i.ytimg.com/vi/LgVi6y5QIjM/default.jpg   \n",
       "1       302           1278  https://i.ytimg.com/vi/Bayt7uQith4/default.jpg   \n",
       "2      6146          12703  https://i.ytimg.com/vi/1ZAPwfrtAFY/default.jpg   \n",
       "3       458           1955  https://i.ytimg.com/vi/AHtypnRk7JE/default.jpg   \n",
       "4      2467          10244  https://i.ytimg.com/vi/ZJ9We4bjcg0/default.jpg   \n",
       "\n",
       "   comments_disabled  ratings_disabled  video_error_or_removed  \\\n",
       "0              False             False                   False   \n",
       "1              False             False                   False   \n",
       "2              False             False                   False   \n",
       "3              False             False                   False   \n",
       "4              False             False                   False   \n",
       "\n",
       "                                         description  \n",
       "0  Heute gibt es mal wieder ein neues Format... w...  \n",
       "1  Kinder ferngesteuert! Kinder lassen sich sooo ...  \n",
       "2  One year after the presidential election, John...  \n",
       "3  ►Alle Videos: http://bit.ly/1fa7Tw3\\n\\n\\n✚Snap...  \n",
       "4  18 Song Mashup über den (veränderten) Beat von...  "
      ]
     },
     "execution_count": 6,
     "metadata": {},
     "output_type": "execute_result"
    }
   ],
   "source": [
    "videos_df.head()"
   ]
  },
  {
   "cell_type": "markdown",
   "id": "07b73791",
   "metadata": {},
   "source": [
    "I see that we probably won't need these columns: **video_id, title, publish_time, tags, comment_count, thumbnail_link, comments_disabled, ratings_disabled** and **description**, so I will drop them. At least, not for any given task in the assingment, but those could be useful in other kind of analyses.\n",
    "\n",
    "--- \n",
    "I will leave the column **video_error_or_removed** because according to metadata:\n",
    "\n",
    " **\"video_error_or_removed: If this is true, it means that the video was removed by the user, or some unspecified error occurred during collection.\"**\n",
    "\n",
    "For the simplicity sake I will assume the edge case that the video is being removed if this column has value **True**.\n",
    "\n",
    "--- \n",
    "\n",
    "Columns like **trending_date** could be used to track how many times unique channel was in trending. Apart from number of views, that in my opinion could be a potential candidate as one of the measures of popularity.\n",
    "\n",
    "For example, if one **channel_title** has been 3 times in trending then it is much popular than **channel_title** that has been none. Yes, there might be a possibility to \"trick\" the YT algorithm to get a video in Trending. Those kind of things are done daily in Balkans especially when it comes to (trashy) music, but for a simplicity sake we will say that YT recommendation algorithm is credible, without bias as a measure of popularity.\n",
    "\n",
    "Since in the last task of this assignment it is required to find channels that are popular in most countries I think it would be a good idea to add the column depicting country name. That is because after transforming each table and getting it ready for visualization I will probably UNION ALL tables and then add another measure of popularity, that is, counting the number of countries unique channel_title is popular in (GROUP BY) and try to extract a column which will show all the Countries that the channel was popular in (GROUP_CONCAT).\n",
    "\n",
    "For now, I will first concentrate on how to join this table with JSON files such that I can obtain category name for each **category_id** that is different for each country."
   ]
  },
  {
   "cell_type": "code",
   "execution_count": 7,
   "id": "71d34d31",
   "metadata": {},
   "outputs": [],
   "source": [
    "COLUMNS_USED = ['channel_title', 'category_id', 'views', 'likes', 'dislikes', 'video_error_or_removed']"
   ]
  },
  {
   "cell_type": "markdown",
   "id": "b2fa43aa",
   "metadata": {},
   "source": [
    "# Preparing Germany .csv "
   ]
  },
  {
   "cell_type": "code",
   "execution_count": 8,
   "id": "9698e556",
   "metadata": {},
   "outputs": [
    {
     "data": {
      "text/plain": [
       "False    40826\n",
       "True        14\n",
       "Name: video_error_or_removed, dtype: int64"
      ]
     },
     "execution_count": 8,
     "metadata": {},
     "output_type": "execute_result"
    }
   ],
   "source": [
    "#Checking if there are videos which are removed\n",
    "videos_df[\"video_error_or_removed\"].value_counts()"
   ]
  },
  {
   "cell_type": "code",
   "execution_count": 9,
   "id": "88047d39",
   "metadata": {
    "scrolled": true
   },
   "outputs": [
    {
     "data": {
      "text/plain": [
       "40826"
      ]
     },
     "execution_count": 9,
     "metadata": {},
     "output_type": "execute_result"
    }
   ],
   "source": [
    "#Pre-checking if we did proper filtering\n",
    "len(videos_df[COLUMNS_USED][videos_df['video_error_or_removed'] == False])"
   ]
  },
  {
   "cell_type": "markdown",
   "id": "f17bdd68",
   "metadata": {},
   "source": [
    "We see that number of **False** ones we are trying to select is equals to ones we previously showed in \n",
    "```value_counts()```"
   ]
  },
  {
   "cell_type": "code",
   "execution_count": 10,
   "id": "a9b26b1e",
   "metadata": {},
   "outputs": [],
   "source": [
    "#Filtering only videos that are not removed...\n",
    "videos_df = videos_df[COLUMNS_USED][videos_df['video_error_or_removed'] == False]"
   ]
  },
  {
   "cell_type": "code",
   "execution_count": 11,
   "id": "81e25188",
   "metadata": {},
   "outputs": [
    {
     "data": {
      "text/html": [
       "<div>\n",
       "<style scoped>\n",
       "    .dataframe tbody tr th:only-of-type {\n",
       "        vertical-align: middle;\n",
       "    }\n",
       "\n",
       "    .dataframe tbody tr th {\n",
       "        vertical-align: top;\n",
       "    }\n",
       "\n",
       "    .dataframe thead th {\n",
       "        text-align: right;\n",
       "    }\n",
       "</style>\n",
       "<table border=\"1\" class=\"dataframe\">\n",
       "  <thead>\n",
       "    <tr style=\"text-align: right;\">\n",
       "      <th></th>\n",
       "      <th>channel_title</th>\n",
       "      <th>category_id</th>\n",
       "      <th>views</th>\n",
       "      <th>likes</th>\n",
       "      <th>dislikes</th>\n",
       "    </tr>\n",
       "  </thead>\n",
       "  <tbody>\n",
       "    <tr>\n",
       "      <th>0</th>\n",
       "      <td>inscope21</td>\n",
       "      <td>24</td>\n",
       "      <td>252786</td>\n",
       "      <td>35885</td>\n",
       "      <td>230</td>\n",
       "    </tr>\n",
       "    <tr>\n",
       "      <th>1</th>\n",
       "      <td>LUKE! Die Woche und ich</td>\n",
       "      <td>23</td>\n",
       "      <td>797196</td>\n",
       "      <td>53576</td>\n",
       "      <td>302</td>\n",
       "    </tr>\n",
       "    <tr>\n",
       "      <th>2</th>\n",
       "      <td>LastWeekTonight</td>\n",
       "      <td>24</td>\n",
       "      <td>2418783</td>\n",
       "      <td>97190</td>\n",
       "      <td>6146</td>\n",
       "    </tr>\n",
       "    <tr>\n",
       "      <th>3</th>\n",
       "      <td>100SekundenPhysik</td>\n",
       "      <td>27</td>\n",
       "      <td>380247</td>\n",
       "      <td>31821</td>\n",
       "      <td>458</td>\n",
       "    </tr>\n",
       "    <tr>\n",
       "      <th>4</th>\n",
       "      <td>rezo</td>\n",
       "      <td>24</td>\n",
       "      <td>822213</td>\n",
       "      <td>100684</td>\n",
       "      <td>2467</td>\n",
       "    </tr>\n",
       "  </tbody>\n",
       "</table>\n",
       "</div>"
      ],
      "text/plain": [
       "             channel_title  category_id    views   likes  dislikes\n",
       "0                inscope21           24   252786   35885       230\n",
       "1  LUKE! Die Woche und ich           23   797196   53576       302\n",
       "2          LastWeekTonight           24  2418783   97190      6146\n",
       "3        100SekundenPhysik           27   380247   31821       458\n",
       "4                     rezo           24   822213  100684      2467"
      ]
     },
     "execution_count": 11,
     "metadata": {},
     "output_type": "execute_result"
    }
   ],
   "source": [
    "#...and dropping the uneccesary column video_error_or_removed\n",
    "videos_df = videos_df.loc[:, videos_df.columns!='video_error_or_removed']\n",
    "videos_df.head()"
   ]
  },
  {
   "cell_type": "code",
   "execution_count": 12,
   "id": "9a08ca70",
   "metadata": {},
   "outputs": [],
   "source": [
    "#Reading JSON file for obtaining categories\n",
    "videos_json = pd.read_json('./youtube-data/youtube-json-data/DE_category_id.json')"
   ]
  },
  {
   "cell_type": "code",
   "execution_count": 13,
   "id": "bdc69c3f",
   "metadata": {},
   "outputs": [
    {
     "data": {
      "text/html": [
       "<div>\n",
       "<style scoped>\n",
       "    .dataframe tbody tr th:only-of-type {\n",
       "        vertical-align: middle;\n",
       "    }\n",
       "\n",
       "    .dataframe tbody tr th {\n",
       "        vertical-align: top;\n",
       "    }\n",
       "\n",
       "    .dataframe thead th {\n",
       "        text-align: right;\n",
       "    }\n",
       "</style>\n",
       "<table border=\"1\" class=\"dataframe\">\n",
       "  <thead>\n",
       "    <tr style=\"text-align: right;\">\n",
       "      <th></th>\n",
       "      <th>kind</th>\n",
       "      <th>etag</th>\n",
       "      <th>items</th>\n",
       "    </tr>\n",
       "  </thead>\n",
       "  <tbody>\n",
       "    <tr>\n",
       "      <th>0</th>\n",
       "      <td>youtube#videoCategoryListResponse</td>\n",
       "      <td>\"ld9biNPKjAjgjV7EZ4EKeEGrhao/1v2mrzYSYG6onNLt2...</td>\n",
       "      <td>{'kind': 'youtube#videoCategory', 'etag': '\"ld...</td>\n",
       "    </tr>\n",
       "    <tr>\n",
       "      <th>1</th>\n",
       "      <td>youtube#videoCategoryListResponse</td>\n",
       "      <td>\"ld9biNPKjAjgjV7EZ4EKeEGrhao/1v2mrzYSYG6onNLt2...</td>\n",
       "      <td>{'kind': 'youtube#videoCategory', 'etag': '\"ld...</td>\n",
       "    </tr>\n",
       "    <tr>\n",
       "      <th>2</th>\n",
       "      <td>youtube#videoCategoryListResponse</td>\n",
       "      <td>\"ld9biNPKjAjgjV7EZ4EKeEGrhao/1v2mrzYSYG6onNLt2...</td>\n",
       "      <td>{'kind': 'youtube#videoCategory', 'etag': '\"ld...</td>\n",
       "    </tr>\n",
       "    <tr>\n",
       "      <th>3</th>\n",
       "      <td>youtube#videoCategoryListResponse</td>\n",
       "      <td>\"ld9biNPKjAjgjV7EZ4EKeEGrhao/1v2mrzYSYG6onNLt2...</td>\n",
       "      <td>{'kind': 'youtube#videoCategory', 'etag': '\"ld...</td>\n",
       "    </tr>\n",
       "    <tr>\n",
       "      <th>4</th>\n",
       "      <td>youtube#videoCategoryListResponse</td>\n",
       "      <td>\"ld9biNPKjAjgjV7EZ4EKeEGrhao/1v2mrzYSYG6onNLt2...</td>\n",
       "      <td>{'kind': 'youtube#videoCategory', 'etag': '\"ld...</td>\n",
       "    </tr>\n",
       "  </tbody>\n",
       "</table>\n",
       "</div>"
      ],
      "text/plain": [
       "                                kind  \\\n",
       "0  youtube#videoCategoryListResponse   \n",
       "1  youtube#videoCategoryListResponse   \n",
       "2  youtube#videoCategoryListResponse   \n",
       "3  youtube#videoCategoryListResponse   \n",
       "4  youtube#videoCategoryListResponse   \n",
       "\n",
       "                                                etag  \\\n",
       "0  \"ld9biNPKjAjgjV7EZ4EKeEGrhao/1v2mrzYSYG6onNLt2...   \n",
       "1  \"ld9biNPKjAjgjV7EZ4EKeEGrhao/1v2mrzYSYG6onNLt2...   \n",
       "2  \"ld9biNPKjAjgjV7EZ4EKeEGrhao/1v2mrzYSYG6onNLt2...   \n",
       "3  \"ld9biNPKjAjgjV7EZ4EKeEGrhao/1v2mrzYSYG6onNLt2...   \n",
       "4  \"ld9biNPKjAjgjV7EZ4EKeEGrhao/1v2mrzYSYG6onNLt2...   \n",
       "\n",
       "                                               items  \n",
       "0  {'kind': 'youtube#videoCategory', 'etag': '\"ld...  \n",
       "1  {'kind': 'youtube#videoCategory', 'etag': '\"ld...  \n",
       "2  {'kind': 'youtube#videoCategory', 'etag': '\"ld...  \n",
       "3  {'kind': 'youtube#videoCategory', 'etag': '\"ld...  \n",
       "4  {'kind': 'youtube#videoCategory', 'etag': '\"ld...  "
      ]
     },
     "execution_count": 13,
     "metadata": {},
     "output_type": "execute_result"
    }
   ],
   "source": [
    "videos_json.head()"
   ]
  },
  {
   "cell_type": "code",
   "execution_count": 14,
   "id": "30ab98d9",
   "metadata": {},
   "outputs": [],
   "source": [
    "#Finding ways to access specific values"
   ]
  },
  {
   "cell_type": "code",
   "execution_count": 15,
   "id": "e601a17f",
   "metadata": {},
   "outputs": [
    {
     "data": {
      "text/plain": [
       "{'kind': 'youtube#videoCategory',\n",
       " 'etag': '\"ld9biNPKjAjgjV7EZ4EKeEGrhao/Xy1mB4_yLrHy_BmKmPBggty2mZQ\"',\n",
       " 'id': '1',\n",
       " 'snippet': {'channelId': 'UCBR8-60-B28hp2BmDPdntcQ',\n",
       "  'title': 'Film & Animation',\n",
       "  'assignable': True}}"
      ]
     },
     "execution_count": 15,
     "metadata": {},
     "output_type": "execute_result"
    }
   ],
   "source": [
    "videos_json['items'][0]"
   ]
  },
  {
   "cell_type": "code",
   "execution_count": 16,
   "id": "323aac46",
   "metadata": {},
   "outputs": [
    {
     "data": {
      "text/plain": [
       "('1', 'Film & Animation')"
      ]
     },
     "execution_count": 16,
     "metadata": {},
     "output_type": "execute_result"
    }
   ],
   "source": [
    "videos_json['items'][0]['id'], videos_json['items'][0]['snippet']['title']"
   ]
  },
  {
   "cell_type": "code",
   "execution_count": 17,
   "id": "2ce7c13b",
   "metadata": {},
   "outputs": [],
   "source": [
    "#I'm planning to collect all the tuples of type (category_id, category) and making a dataframe\n",
    "#which will be used to JOIN tables"
   ]
  },
  {
   "cell_type": "code",
   "execution_count": 18,
   "id": "208ef279",
   "metadata": {},
   "outputs": [],
   "source": [
    "list_json = list(videos_json['items'].values)"
   ]
  },
  {
   "cell_type": "code",
   "execution_count": 19,
   "id": "d4bec7a1",
   "metadata": {},
   "outputs": [],
   "source": [
    "category_list = []"
   ]
  },
  {
   "cell_type": "code",
   "execution_count": 20,
   "id": "c49383ff",
   "metadata": {},
   "outputs": [
    {
     "data": {
      "text/plain": [
       "channel_title    object\n",
       "category_id       int64\n",
       "views             int64\n",
       "likes             int64\n",
       "dislikes          int64\n",
       "dtype: object"
      ]
     },
     "execution_count": 20,
     "metadata": {},
     "output_type": "execute_result"
    }
   ],
   "source": [
    "#Let's see what kind of datatype is category_id such that we can properly populate the Dataframe and not having\n",
    "#issues when joining two Dataframe's on the same column\n",
    "videos_df.dtypes"
   ]
  },
  {
   "cell_type": "code",
   "execution_count": 21,
   "id": "36d80dee",
   "metadata": {},
   "outputs": [],
   "source": [
    "#We will cast the category_id to integer value\n",
    "for element in list_json:\n",
    "    category_list.append((int(element['id']), element['snippet']['title']))"
   ]
  },
  {
   "cell_type": "code",
   "execution_count": 22,
   "id": "87b10c2e",
   "metadata": {},
   "outputs": [],
   "source": [
    "#I will use the same name for the dataframe for each country in order to save a bit of memory\n",
    "category_df = pd.DataFrame(category_list, columns =['category_id', 'category'])"
   ]
  },
  {
   "cell_type": "code",
   "execution_count": 23,
   "id": "d516ab45",
   "metadata": {},
   "outputs": [
    {
     "data": {
      "text/html": [
       "<div>\n",
       "<style scoped>\n",
       "    .dataframe tbody tr th:only-of-type {\n",
       "        vertical-align: middle;\n",
       "    }\n",
       "\n",
       "    .dataframe tbody tr th {\n",
       "        vertical-align: top;\n",
       "    }\n",
       "\n",
       "    .dataframe thead th {\n",
       "        text-align: right;\n",
       "    }\n",
       "</style>\n",
       "<table border=\"1\" class=\"dataframe\">\n",
       "  <thead>\n",
       "    <tr style=\"text-align: right;\">\n",
       "      <th></th>\n",
       "      <th>category_id</th>\n",
       "      <th>category</th>\n",
       "    </tr>\n",
       "  </thead>\n",
       "  <tbody>\n",
       "    <tr>\n",
       "      <th>0</th>\n",
       "      <td>1</td>\n",
       "      <td>Film &amp; Animation</td>\n",
       "    </tr>\n",
       "    <tr>\n",
       "      <th>1</th>\n",
       "      <td>2</td>\n",
       "      <td>Autos &amp; Vehicles</td>\n",
       "    </tr>\n",
       "    <tr>\n",
       "      <th>2</th>\n",
       "      <td>10</td>\n",
       "      <td>Music</td>\n",
       "    </tr>\n",
       "    <tr>\n",
       "      <th>3</th>\n",
       "      <td>15</td>\n",
       "      <td>Pets &amp; Animals</td>\n",
       "    </tr>\n",
       "    <tr>\n",
       "      <th>4</th>\n",
       "      <td>17</td>\n",
       "      <td>Sports</td>\n",
       "    </tr>\n",
       "  </tbody>\n",
       "</table>\n",
       "</div>"
      ],
      "text/plain": [
       "   category_id          category\n",
       "0            1  Film & Animation\n",
       "1            2  Autos & Vehicles\n",
       "2           10             Music\n",
       "3           15    Pets & Animals\n",
       "4           17            Sports"
      ]
     },
     "execution_count": 23,
     "metadata": {},
     "output_type": "execute_result"
    }
   ],
   "source": [
    "category_df.head()"
   ]
  },
  {
   "cell_type": "code",
   "execution_count": 24,
   "id": "e992460c",
   "metadata": {},
   "outputs": [
    {
     "data": {
      "text/html": [
       "<div>\n",
       "<style scoped>\n",
       "    .dataframe tbody tr th:only-of-type {\n",
       "        vertical-align: middle;\n",
       "    }\n",
       "\n",
       "    .dataframe tbody tr th {\n",
       "        vertical-align: top;\n",
       "    }\n",
       "\n",
       "    .dataframe thead th {\n",
       "        text-align: right;\n",
       "    }\n",
       "</style>\n",
       "<table border=\"1\" class=\"dataframe\">\n",
       "  <thead>\n",
       "    <tr style=\"text-align: right;\">\n",
       "      <th></th>\n",
       "      <th>channel_title</th>\n",
       "      <th>category_id</th>\n",
       "      <th>views</th>\n",
       "      <th>likes</th>\n",
       "      <th>dislikes</th>\n",
       "      <th>category</th>\n",
       "    </tr>\n",
       "  </thead>\n",
       "  <tbody>\n",
       "    <tr>\n",
       "      <th>0</th>\n",
       "      <td>inscope21</td>\n",
       "      <td>24</td>\n",
       "      <td>252786</td>\n",
       "      <td>35885</td>\n",
       "      <td>230</td>\n",
       "      <td>Entertainment</td>\n",
       "    </tr>\n",
       "    <tr>\n",
       "      <th>1</th>\n",
       "      <td>LUKE! Die Woche und ich</td>\n",
       "      <td>23</td>\n",
       "      <td>797196</td>\n",
       "      <td>53576</td>\n",
       "      <td>302</td>\n",
       "      <td>Comedy</td>\n",
       "    </tr>\n",
       "    <tr>\n",
       "      <th>2</th>\n",
       "      <td>LastWeekTonight</td>\n",
       "      <td>24</td>\n",
       "      <td>2418783</td>\n",
       "      <td>97190</td>\n",
       "      <td>6146</td>\n",
       "      <td>Entertainment</td>\n",
       "    </tr>\n",
       "    <tr>\n",
       "      <th>3</th>\n",
       "      <td>100SekundenPhysik</td>\n",
       "      <td>27</td>\n",
       "      <td>380247</td>\n",
       "      <td>31821</td>\n",
       "      <td>458</td>\n",
       "      <td>Education</td>\n",
       "    </tr>\n",
       "    <tr>\n",
       "      <th>4</th>\n",
       "      <td>rezo</td>\n",
       "      <td>24</td>\n",
       "      <td>822213</td>\n",
       "      <td>100684</td>\n",
       "      <td>2467</td>\n",
       "      <td>Entertainment</td>\n",
       "    </tr>\n",
       "  </tbody>\n",
       "</table>\n",
       "</div>"
      ],
      "text/plain": [
       "             channel_title  category_id    views   likes  dislikes  \\\n",
       "0                inscope21           24   252786   35885       230   \n",
       "1  LUKE! Die Woche und ich           23   797196   53576       302   \n",
       "2          LastWeekTonight           24  2418783   97190      6146   \n",
       "3        100SekundenPhysik           27   380247   31821       458   \n",
       "4                     rezo           24   822213  100684      2467   \n",
       "\n",
       "        category  \n",
       "0  Entertainment  \n",
       "1         Comedy  \n",
       "2  Entertainment  \n",
       "3      Education  \n",
       "4  Entertainment  "
      ]
     },
     "execution_count": 24,
     "metadata": {},
     "output_type": "execute_result"
    }
   ],
   "source": [
    "#I'm going to use left join here just in case that there might be a possibility of having a category_id that\n",
    "#isn't listed (due to API error?) in the proper JSON file\n",
    "videos_df = videos_df.merge(category_df, on='category_id', how='left')\n",
    "videos_df.head()"
   ]
  },
  {
   "cell_type": "code",
   "execution_count": 25,
   "id": "a37faf01",
   "metadata": {},
   "outputs": [
    {
     "data": {
      "text/html": [
       "<div>\n",
       "<style scoped>\n",
       "    .dataframe tbody tr th:only-of-type {\n",
       "        vertical-align: middle;\n",
       "    }\n",
       "\n",
       "    .dataframe tbody tr th {\n",
       "        vertical-align: top;\n",
       "    }\n",
       "\n",
       "    .dataframe thead th {\n",
       "        text-align: right;\n",
       "    }\n",
       "</style>\n",
       "<table border=\"1\" class=\"dataframe\">\n",
       "  <thead>\n",
       "    <tr style=\"text-align: right;\">\n",
       "      <th></th>\n",
       "      <th>channel_title</th>\n",
       "      <th>views</th>\n",
       "      <th>likes</th>\n",
       "      <th>dislikes</th>\n",
       "      <th>category</th>\n",
       "    </tr>\n",
       "  </thead>\n",
       "  <tbody>\n",
       "    <tr>\n",
       "      <th>0</th>\n",
       "      <td>inscope21</td>\n",
       "      <td>252786</td>\n",
       "      <td>35885</td>\n",
       "      <td>230</td>\n",
       "      <td>Entertainment</td>\n",
       "    </tr>\n",
       "    <tr>\n",
       "      <th>1</th>\n",
       "      <td>LUKE! Die Woche und ich</td>\n",
       "      <td>797196</td>\n",
       "      <td>53576</td>\n",
       "      <td>302</td>\n",
       "      <td>Comedy</td>\n",
       "    </tr>\n",
       "    <tr>\n",
       "      <th>2</th>\n",
       "      <td>LastWeekTonight</td>\n",
       "      <td>2418783</td>\n",
       "      <td>97190</td>\n",
       "      <td>6146</td>\n",
       "      <td>Entertainment</td>\n",
       "    </tr>\n",
       "    <tr>\n",
       "      <th>3</th>\n",
       "      <td>100SekundenPhysik</td>\n",
       "      <td>380247</td>\n",
       "      <td>31821</td>\n",
       "      <td>458</td>\n",
       "      <td>Education</td>\n",
       "    </tr>\n",
       "    <tr>\n",
       "      <th>4</th>\n",
       "      <td>rezo</td>\n",
       "      <td>822213</td>\n",
       "      <td>100684</td>\n",
       "      <td>2467</td>\n",
       "      <td>Entertainment</td>\n",
       "    </tr>\n",
       "  </tbody>\n",
       "</table>\n",
       "</div>"
      ],
      "text/plain": [
       "             channel_title    views   likes  dislikes       category\n",
       "0                inscope21   252786   35885       230  Entertainment\n",
       "1  LUKE! Die Woche und ich   797196   53576       302         Comedy\n",
       "2          LastWeekTonight  2418783   97190      6146  Entertainment\n",
       "3        100SekundenPhysik   380247   31821       458      Education\n",
       "4                     rezo   822213  100684      2467  Entertainment"
      ]
     },
     "execution_count": 25,
     "metadata": {},
     "output_type": "execute_result"
    }
   ],
   "source": [
    "#I will drop the uneccesary category_id column\n",
    "videos_df = videos_df.loc[:, videos_df.columns!=\"category_id\"]\n",
    "videos_df.head()"
   ]
  },
  {
   "cell_type": "code",
   "execution_count": 26,
   "id": "007e1846",
   "metadata": {},
   "outputs": [],
   "source": [
    "#Finally I will add column which will depict the country name\n",
    "videos_df['country'] = 'DE'"
   ]
  },
  {
   "cell_type": "code",
   "execution_count": 27,
   "id": "67bf6378",
   "metadata": {},
   "outputs": [
    {
     "data": {
      "text/html": [
       "<div>\n",
       "<style scoped>\n",
       "    .dataframe tbody tr th:only-of-type {\n",
       "        vertical-align: middle;\n",
       "    }\n",
       "\n",
       "    .dataframe tbody tr th {\n",
       "        vertical-align: top;\n",
       "    }\n",
       "\n",
       "    .dataframe thead th {\n",
       "        text-align: right;\n",
       "    }\n",
       "</style>\n",
       "<table border=\"1\" class=\"dataframe\">\n",
       "  <thead>\n",
       "    <tr style=\"text-align: right;\">\n",
       "      <th></th>\n",
       "      <th>channel_title</th>\n",
       "      <th>views</th>\n",
       "      <th>likes</th>\n",
       "      <th>dislikes</th>\n",
       "      <th>category</th>\n",
       "      <th>country</th>\n",
       "    </tr>\n",
       "  </thead>\n",
       "  <tbody>\n",
       "    <tr>\n",
       "      <th>0</th>\n",
       "      <td>inscope21</td>\n",
       "      <td>252786</td>\n",
       "      <td>35885</td>\n",
       "      <td>230</td>\n",
       "      <td>Entertainment</td>\n",
       "      <td>DE</td>\n",
       "    </tr>\n",
       "    <tr>\n",
       "      <th>1</th>\n",
       "      <td>LUKE! Die Woche und ich</td>\n",
       "      <td>797196</td>\n",
       "      <td>53576</td>\n",
       "      <td>302</td>\n",
       "      <td>Comedy</td>\n",
       "      <td>DE</td>\n",
       "    </tr>\n",
       "    <tr>\n",
       "      <th>2</th>\n",
       "      <td>LastWeekTonight</td>\n",
       "      <td>2418783</td>\n",
       "      <td>97190</td>\n",
       "      <td>6146</td>\n",
       "      <td>Entertainment</td>\n",
       "      <td>DE</td>\n",
       "    </tr>\n",
       "    <tr>\n",
       "      <th>3</th>\n",
       "      <td>100SekundenPhysik</td>\n",
       "      <td>380247</td>\n",
       "      <td>31821</td>\n",
       "      <td>458</td>\n",
       "      <td>Education</td>\n",
       "      <td>DE</td>\n",
       "    </tr>\n",
       "    <tr>\n",
       "      <th>4</th>\n",
       "      <td>rezo</td>\n",
       "      <td>822213</td>\n",
       "      <td>100684</td>\n",
       "      <td>2467</td>\n",
       "      <td>Entertainment</td>\n",
       "      <td>DE</td>\n",
       "    </tr>\n",
       "  </tbody>\n",
       "</table>\n",
       "</div>"
      ],
      "text/plain": [
       "             channel_title    views   likes  dislikes       category country\n",
       "0                inscope21   252786   35885       230  Entertainment      DE\n",
       "1  LUKE! Die Woche und ich   797196   53576       302         Comedy      DE\n",
       "2          LastWeekTonight  2418783   97190      6146  Entertainment      DE\n",
       "3        100SekundenPhysik   380247   31821       458      Education      DE\n",
       "4                     rezo   822213  100684      2467  Entertainment      DE"
      ]
     },
     "execution_count": 27,
     "metadata": {},
     "output_type": "execute_result"
    }
   ],
   "source": [
    "videos_df.head()"
   ]
  },
  {
   "cell_type": "code",
   "execution_count": 28,
   "id": "fd95e3c9",
   "metadata": {},
   "outputs": [],
   "source": [
    "#Exporting the data such that we can save up memory by using same namespace for videos_df\n",
    "videos_df.to_csv('./exported-data/de_videos.csv', index = False)"
   ]
  },
  {
   "cell_type": "markdown",
   "id": "185f1f56",
   "metadata": {},
   "source": [
    "At this point I think it is safe to make a function and automate the process for the rest of the countries!"
   ]
  },
  {
   "cell_type": "code",
   "execution_count": 29,
   "id": "227d521a",
   "metadata": {},
   "outputs": [
    {
     "name": "stdout",
     "output_type": "stream",
     "text": [
      "CAvideos.csv FRvideos.csv INvideos.csv KRvideos.csv RUvideos.csv\r\n",
      "DEvideos.csv GBvideos.csv JPvideos.csv MXvideos.csv USvideos.csv\r\n"
     ]
    }
   ],
   "source": [
    "!ls youtube-data/youtube-csv-data/"
   ]
  },
  {
   "cell_type": "code",
   "execution_count": 30,
   "id": "26a1a4c2",
   "metadata": {},
   "outputs": [],
   "source": [
    "#Let's define abbreviations for the rest of the csv files\n",
    "REST_OF_THE_COUNTRIES = ['CA', 'FR', 'IN', 'KR', 'RU', 'GB', 'JP', 'MX', 'US']"
   ]
  },
  {
   "cell_type": "code",
   "execution_count": 31,
   "id": "367fc081",
   "metadata": {},
   "outputs": [],
   "source": [
    "#Let's define the functions to help organize the code better\n",
    "def csv_reading_and_transformation(country_abb):\n",
    "    \n",
    "    COLUMNS_USED = ['channel_title', 'category_id', 'views', 'likes', 'dislikes', 'video_error_or_removed']\n",
    "    \n",
    "    #Reading and transforming .csv files\n",
    "    videos_df = pd.read_csv(f'./youtube-data/youtube-csv-data/{country_abb}videos.csv', encoding='latin-1')\n",
    "    videos_df = videos_df[COLUMNS_USED][videos_df['video_error_or_removed'] == False]\n",
    "    videos_df = videos_df.loc[:, videos_df.columns!='video_error_or_removed']\n",
    "    \n",
    "    return videos_df\n",
    "\n",
    "def json_reading_and_transformation(country_abb):\n",
    "    \n",
    "    #Reading and transforming .json files\n",
    "    videos_json = pd.read_json(f'./youtube-data/youtube-json-data/{country_abb}_category_id.json')\n",
    "    \n",
    "    list_json = list(videos_json['items'].values)\n",
    "    category_list = []\n",
    "    for element in list_json:\n",
    "        category_list.append((int(element['id']), element['snippet']['title']))\n",
    "        category_df = pd.DataFrame(category_list, columns =['category_id', 'category'])\n",
    "            \n",
    "    return category_df\n",
    "\n",
    "def final_transformations(country_abb, csv_df, json_df):\n",
    "    videos_df = csv_df.merge(json_df, on='category_id', how='left')\n",
    "    \n",
    "    videos_df = videos_df.loc[:, videos_df.columns!=\"category_id\"]\n",
    "    videos_df['country'] = f'{country_abb}'\n",
    "    \n",
    "    videos_df.to_csv(f'./exported-data/{country_abb.lower()}_videos.csv', index = False)\n",
    "    \n",
    "    return \"Finished!\""
   ]
  },
  {
   "cell_type": "code",
   "execution_count": 32,
   "id": "3f4f8e93",
   "metadata": {},
   "outputs": [],
   "source": [
    "#Getting .csv files for the rest of the countries\n",
    "for each_country in REST_OF_THE_COUNTRIES:\n",
    "    video_df = csv_reading_and_transformation(each_country)\n",
    "    json_df = json_reading_and_transformation(each_country)\n",
    "    final_transformations(each_country, video_df, json_df)"
   ]
  },
  {
   "cell_type": "markdown",
   "id": "7e3060e9",
   "metadata": {},
   "source": [
    "Let's now combine all the csv files into one such that it will be easier to deal with in Tableau"
   ]
  },
  {
   "cell_type": "code",
   "execution_count": 33,
   "id": "7664271d",
   "metadata": {},
   "outputs": [],
   "source": [
    "REST_OF_THE_COUNTRIES = [country.lower() for country in REST_OF_THE_COUNTRIES]"
   ]
  },
  {
   "cell_type": "code",
   "execution_count": 34,
   "id": "f995934c",
   "metadata": {},
   "outputs": [
    {
     "name": "stdout",
     "output_type": "stream",
     "text": [
      "['ca', 'fr', 'in', 'kr', 'ru', 'gb', 'jp', 'mx', 'us']\n"
     ]
    }
   ],
   "source": [
    "print(REST_OF_THE_COUNTRIES)"
   ]
  },
  {
   "cell_type": "code",
   "execution_count": 35,
   "id": "5681c035",
   "metadata": {},
   "outputs": [],
   "source": [
    "#Let's not forget the Germany\n",
    "REST_OF_THE_COUNTRIES.append('de')"
   ]
  },
  {
   "cell_type": "code",
   "execution_count": 37,
   "id": "b1f035ee",
   "metadata": {},
   "outputs": [],
   "source": [
    "li = []\n",
    "for filename in REST_OF_THE_COUNTRIES:\n",
    "    video_df = pd.read_csv(f'./exported-data/{filename}_videos.csv')\n",
    "    li.append(video_df)"
   ]
  },
  {
   "cell_type": "code",
   "execution_count": 38,
   "id": "09519d67",
   "metadata": {},
   "outputs": [],
   "source": [
    "#concat() function has the same functionality as UNION ALL in SQL\n",
    "combined_df = pd.concat(li, axis=0, ignore_index=True)"
   ]
  },
  {
   "cell_type": "code",
   "execution_count": 39,
   "id": "882cedf8",
   "metadata": {},
   "outputs": [],
   "source": [
    "#Export the final csv file\n",
    "combined_df.to_csv('./exported-data/videos_combined.csv', index = False)"
   ]
  }
 ],
 "metadata": {
  "kernelspec": {
   "display_name": "Python 3 (ipykernel)",
   "language": "python",
   "name": "python3"
  },
  "language_info": {
   "codemirror_mode": {
    "name": "ipython",
    "version": 3
   },
   "file_extension": ".py",
   "mimetype": "text/x-python",
   "name": "python",
   "nbconvert_exporter": "python",
   "pygments_lexer": "ipython3",
   "version": "3.9.7"
  }
 },
 "nbformat": 4,
 "nbformat_minor": 5
}
